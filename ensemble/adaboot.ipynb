{
 "cells": [
  {
   "cell_type": "code",
   "execution_count": 3,
   "id": "6f8ba6c4",
   "metadata": {},
   "outputs": [],
   "source": [
    "#### load dataset\n",
    "import pandas as pd\n",
    "df = pd.read_csv(\"dataset/Customer-Churn-Records.csv\")\n",
    "df.drop(columns=[\"RowNumber\",\"CustomerId\",\"Surname\",\"Complain\",\"Satisfaction Score\",\"Card Type\",\"Point Earned\"],inplace=True)\n",
    "\n",
    "#### handle data\n",
    "from sklearn.preprocessing import LabelEncoder\n",
    "le = LabelEncoder()\n",
    "df[\"Geography\"] = le.fit_transform(df[\"Geography\"])\n",
    "df[\"Gender\"] = le.fit_transform(df[\"Gender\"])\n",
    "\n",
    "#### create the data train and test\n",
    "X = df.drop(columns=\"Exited\", axis=1)\n",
    "y = df[\"Exited\"]\n",
    "#### split the data into train and test dataset\n",
    "from sklearn.model_selection import train_test_split\n",
    "X_train, X_test, y_train, y_test = train_test_split(X,y, test_size=0.2, random_state=43)"
   ]
  },
  {
   "cell_type": "code",
   "execution_count": null,
   "id": "3d788c0f",
   "metadata": {},
   "outputs": [],
   "source": [
    "from sklearn.tree import DecisionTreeClassifier\n",
    "from sklearn.metrics import accuracy_score\n",
    "\n",
    "dt = DecisionTreeClassifier(max_depth=2)\n",
    "dt.fit(X_train,y_train)\n",
    "\n",
    "y_pred = dt.predict(X_test)\n",
    "print(\"accuracy_score for decision tree : \",accuracy_score(y_test,y_pred))\n"
   ]
  },
  {
   "cell_type": "code",
   "execution_count": null,
   "id": "43842f6f",
   "metadata": {},
   "outputs": [],
   "source": [
    "from sklearn.ensemble import AdaBoostClassifier\n",
    "\n",
    "base_clf = DecisionTreeClassifier(max_depth=1) \n",
    "ada_clf = AdaBoostClassifier(estimator=base_clf, n_estimators=100)\n",
    "\n",
    "ada_clf.fit(X_train,y_train)\n",
    "y_pred_ada = ada_clf.predict(X_test)\n",
    "print(\"accuracy_score for adaboot : \",accuracy_score(y_test,y_pred_ada))"
   ]
  }
 ],
 "metadata": {
  "kernelspec": {
   "display_name": "Python 3",
   "language": "python",
   "name": "python3"
  },
  "language_info": {
   "codemirror_mode": {
    "name": "ipython",
    "version": 3
   },
   "file_extension": ".py",
   "mimetype": "text/x-python",
   "name": "python",
   "nbconvert_exporter": "python",
   "pygments_lexer": "ipython3",
   "version": "3.13.2"
  }
 },
 "nbformat": 4,
 "nbformat_minor": 5
}
