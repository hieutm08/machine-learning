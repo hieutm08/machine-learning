{
 "cells": [
  {
   "cell_type": "code",
   "execution_count": 10,
   "id": "44bb7ca1",
   "metadata": {},
   "outputs": [],
   "source": [
    "#### load dataset\n",
    "import pandas as pd\n",
    "df = pd.read_csv(\"dataset/Customer-Churn-Records.csv\")\n",
    "df.drop(columns=[\"RowNumber\",\"CustomerId\",\"Surname\",\"Complain\",\"Satisfaction Score\",\"Card Type\",\"Point Earned\"],inplace=True)\n",
    "\n",
    "#### handle data\n",
    "from sklearn.preprocessing import LabelEncoder\n",
    "le = LabelEncoder()\n",
    "df[\"Geography\"] = le.fit_transform(df[\"Geography\"])\n",
    "df[\"Gender\"] = le.fit_transform(df[\"Gender\"])\n",
    "\n",
    "#### create the data train and test\n",
    "X = df.drop(columns=\"Exited\", axis=1)\n",
    "y = df[\"Exited\"]\n",
    "#### split the data into train and test dataset\n",
    "from sklearn.model_selection import train_test_split\n",
    "X_train, X_test, y_train, y_test = train_test_split(X,y, test_size=0.2, random_state=43)"
   ]
  },
  {
   "cell_type": "code",
   "execution_count": null,
   "id": "9511f600",
   "metadata": {},
   "outputs": [],
   "source": [
    "from sklearn.tree import DecisionTreeClassifier\n",
    "from sklearn.linear_model import LogisticRegression\n",
    "from sklearn.neighbors import KNeighborsClassifier\n",
    "from sklearn.ensemble import StackingClassifier\n",
    "from sklearn.metrics import accuracy_score\n",
    "\n",
    "# define base models\n",
    "base_models =[\n",
    "    ('knn',KNeighborsClassifier(n_neighbors=3)),\n",
    "    ('dt', DecisionTreeClassifier(max_depth=2, random_state=42))\n",
    "]\n",
    "\n",
    "# define the meta-model Logictic regression\n",
    "meta_model = LogisticRegression(max_iter=500, random_state=42)\n",
    "stacking_model = StackingClassifier(estimators=base_models, final_estimator=meta_model)\n",
    "stacking_model.fit(X_train,y_train)\n",
    "\n",
    "y_pred = stacking_model.predict(X_test)\n",
    "\n",
    "print(f\"accuracy_score : {accuracy_score(y_test,y_pred)}\")"
   ]
  },
  {
   "cell_type": "code",
   "execution_count": null,
   "id": "4f596c6e",
   "metadata": {},
   "outputs": [],
   "source": [
    "for name, model in base_models:\n",
    "    model.fit(X_train,y_train)\n",
    "    y_predicion = model.predict(X_test)\n",
    "    print(f\"accuracy_score for model {name} : {accuracy_score(y_test,y_predicion)}\")"
   ]
  }
 ],
 "metadata": {
  "kernelspec": {
   "display_name": "Python 3",
   "language": "python",
   "name": "python3"
  },
  "language_info": {
   "codemirror_mode": {
    "name": "ipython",
    "version": 3
   },
   "file_extension": ".py",
   "mimetype": "text/x-python",
   "name": "python",
   "nbconvert_exporter": "python",
   "pygments_lexer": "ipython3",
   "version": "3.13.2"
  }
 },
 "nbformat": 4,
 "nbformat_minor": 5
}
