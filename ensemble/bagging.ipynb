{
 "cells": [
  {
   "cell_type": "code",
   "execution_count": null,
   "id": "aa07e2b6",
   "metadata": {},
   "outputs": [],
   "source": [
    "#### Load train\n",
    "import pandas as pd\n",
    "from sklearn.model_selection import train_test_split \n",
    "from sklearn.preprocessing import LabelEncoder\n",
    "df = pd.read_csv('../dataset/iris_data.csv')\n",
    "le = LabelEncoder()\n",
    "df[\"class_name\"] = le.fit_transform(df[\"class_name\"])\n",
    "#handle data\n",
    "X, y = df.iloc[:,:4], df.iloc[:,4]\n",
    "X_train, X_test, y_train, y_test = train_test_split(X,y, test_size=0.2, random_state=42)"
   ]
  },
  {
   "cell_type": "code",
   "execution_count": null,
   "id": "81fc7dce",
   "metadata": {},
   "outputs": [],
   "source": [
    "from sklearn.ensemble import BaggingClassifier\n",
    "from sklearn.tree import DecisionTreeClassifier\n",
    "from sklearn.metrics import accuracy_score\n",
    "\n",
    "base_clf = DecisionTreeClassifier(random_state=42)\n",
    "bg_clf =  BaggingClassifier(base_clf, n_estimators=100, oob_score=True ,random_state=42)\n",
    "bg_clf.fit(X_train,y_train)\n",
    "y_pred = bg_clf.predict(X_test)\n",
    "print(\"oob_score : \", bg_clf.oob_score_)\n",
    "print(\"accuracy_score : \", accuracy_score(y_test,y_pred))"
   ]
  }
 ],
 "metadata": {
  "kernelspec": {
   "display_name": "Python 3",
   "language": "python",
   "name": "python3"
  },
  "language_info": {
   "codemirror_mode": {
    "name": "ipython",
    "version": 3
   },
   "file_extension": ".py",
   "mimetype": "text/x-python",
   "name": "python",
   "nbconvert_exporter": "python",
   "pygments_lexer": "ipython3",
   "version": "3.13.2"
  }
 },
 "nbformat": 4,
 "nbformat_minor": 5
}
