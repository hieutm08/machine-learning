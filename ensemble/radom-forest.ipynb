{
 "cells": [
  {
   "cell_type": "code",
   "execution_count": 2,
   "id": "71ab04f2",
   "metadata": {},
   "outputs": [],
   "source": [
    "#### load dataset\n",
    "import pandas as pd\n",
    "df = pd.read_csv(\"../dataset/Customer-Churn-Records.csv\")\n",
    "df.drop(columns=[\"RowNumber\",\"CustomerId\",\"Surname\",\"Complain\",\"Satisfaction Score\",\"Card Type\",\"Point Earned\"],inplace=True)\n",
    "\n",
    "#### handle data\n",
    "from sklearn.preprocessing import LabelEncoder\n",
    "le = LabelEncoder()\n",
    "df[\"Geography\"] = le.fit_transform(df[\"Geography\"])\n",
    "df[\"Gender\"] = le.fit_transform(df[\"Gender\"])\n",
    "\n",
    "#### create the data train and test\n",
    "X = df.drop(columns=\"Exited\", axis=1)\n",
    "y = df[\"Exited\"]\n",
    "#### split the data into train and test dataset\n",
    "from sklearn.model_selection import train_test_split\n",
    "X_train, X_test, y_train, y_test = train_test_split(X,y, test_size=0.2, random_state=43)"
   ]
  },
  {
   "cell_type": "code",
   "execution_count": null,
   "id": "ea5c7b1b",
   "metadata": {},
   "outputs": [],
   "source": [
    "from sklearn.ensemble import RandomForestClassifier\n",
    "from sklearn.metrics import accuracy_score\n",
    "\n",
    "rf_clf = RandomForestClassifier(n_estimators=100, random_state=42, oob_score=True)\n",
    "rf_clf.fit(X_train,y_train)\n",
    "\n",
    "y_pred = rf_clf.predict(X_test)\n",
    "print(\"OOB score : \",rf_clf.oob_score_)\n",
    "print(\"Prediction : \",accuracy_score(y_test,y_pred))\n"
   ]
  },
  {
   "cell_type": "code",
   "execution_count": null,
   "id": "fb1e921f",
   "metadata": {},
   "outputs": [],
   "source": [
    "future_importances = rf_clf.feature_importances_\n",
    "importance_df = pd.DataFrame({\"Feature\": X.columns, \"Importance\":future_importances })\n",
    "\n",
    "print(importance_df)\n",
    "\n",
    "import matplotlib.pyplot as plt  \n",
    "importance_df.plot(kind=\"barh\", x=\"Feature\", y=\"Importance\")"
   ]
  }
 ],
 "metadata": {
  "kernelspec": {
   "display_name": "Python 3",
   "language": "python",
   "name": "python3"
  },
  "language_info": {
   "codemirror_mode": {
    "name": "ipython",
    "version": 3
   },
   "file_extension": ".py",
   "mimetype": "text/x-python",
   "name": "python",
   "nbconvert_exporter": "python",
   "pygments_lexer": "ipython3",
   "version": "3.13.2"
  }
 },
 "nbformat": 4,
 "nbformat_minor": 5
}
